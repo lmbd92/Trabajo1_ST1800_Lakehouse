{
 "cells": [
  {
   "cell_type": "code",
   "execution_count": 1,
   "metadata": {},
   "outputs": [
    {
     "name": "stdout",
     "output_type": "stream",
     "text": [
      "Starting Spark application\n"
     ]
    },
    {
     "data": {
      "text/html": [
       "<table>\n",
       "<tr><th>ID</th><th>YARN Application ID</th><th>Kind</th><th>State</th><th>Spark UI</th><th>Driver log</th><th>Current session?</th></tr><tr><td>0</td><td>application_1646933635929_0002</td><td>pyspark</td><td>idle</td><td><a target=\"_blank\" href=\"http://ip-172-31-44-96.ec2.internal:20888/proxy/application_1646933635929_0002/\">Link</a></td><td><a target=\"_blank\" href=\"http://ip-172-31-47-193.ec2.internal:8042/node/containerlogs/container_1646933635929_0002_01_000001/livy\">Link</a></td><td>✔</td></tr></table>"
      ],
      "text/plain": [
       "<IPython.core.display.HTML object>"
      ]
     },
     "metadata": {},
     "output_type": "display_data"
    },
    {
     "data": {
      "application/vnd.jupyter.widget-view+json": {
       "model_id": "",
       "version_major": 2,
       "version_minor": 0
      },
      "text/plain": [
       "FloatProgress(value=0.0, bar_style='info', description='Progress:', layout=Layout(height='25px', width='50%'),…"
      ]
     },
     "metadata": {},
     "output_type": "display_data"
    },
    {
     "name": "stdout",
     "output_type": "stream",
     "text": [
      "SparkSession available as 'spark'.\n"
     ]
    },
    {
     "data": {
      "application/vnd.jupyter.widget-view+json": {
       "model_id": "",
       "version_major": 2,
       "version_minor": 0
      },
      "text/plain": [
       "FloatProgress(value=0.0, bar_style='info', description='Progress:', layout=Layout(height='25px', width='50%'),…"
      ]
     },
     "metadata": {},
     "output_type": "display_data"
    },
    {
     "name": "stdout",
     "output_type": "stream",
     "text": [
      "<SparkContext master=yarn appName=livy-session-0>"
     ]
    }
   ],
   "source": [
    "spark\n",
    "sc"
   ]
  },
  {
   "cell_type": "code",
   "execution_count": 2,
   "metadata": {},
   "outputs": [
    {
     "data": {
      "application/vnd.jupyter.widget-view+json": {
       "model_id": "",
       "version_major": 2,
       "version_minor": 0
      },
      "text/plain": [
       "FloatProgress(value=0.0, bar_style='info', description='Progress:', layout=Layout(height='25px', width='50%'),…"
      ]
     },
     "metadata": {},
     "output_type": "display_data"
    }
   ],
   "source": [
    "environment=spark.read.csv('s3://trabajo1datalake/raw/Change_climatic/environment/',inferSchema=False,header=True)"
   ]
  },
  {
   "cell_type": "code",
   "execution_count": 3,
   "metadata": {},
   "outputs": [
    {
     "data": {
      "application/vnd.jupyter.widget-view+json": {
       "model_id": "",
       "version_major": 2,
       "version_minor": 0
      },
      "text/plain": [
       "FloatProgress(value=0.0, bar_style='info', description='Progress:', layout=Layout(height='25px', width='50%'),…"
      ]
     },
     "metadata": {},
     "output_type": "display_data"
    },
    {
     "name": "stdout",
     "output_type": "stream",
     "text": [
      "DataFrame[summary: string, Area Code: string, Area: string, Months Code: string, Months: string, Element Code: string, Element: string, Unit: string, Y1961: string, Y1962: string, Y1963: string, Y1964: string, Y1965: string, Y1966: string, Y1967: string, Y1968: string, Y1969: string, Y1970: string, Y1971: string, Y1972: string, Y1973: string, Y1974: string, Y1975: string, Y1976: string, Y1977: string, Y1978: string, Y1979: string, Y1980: string, Y1981: string, Y1982: string, Y1983: string, Y1984: string, Y1985: string, Y1986: string, Y1987: string, Y1988: string, Y1989: string, Y1990: string, Y1991: string, Y1992: string, Y1993: string, Y1994: string, Y1995: string, Y1996: string, Y1997: string, Y1998: string, Y1999: string, Y2000: string, Y2001: string, Y2002: string, Y2003: string, Y2004: string, Y2005: string, Y2006: string, Y2007: string, Y2008: string, Y2009: string, Y2010: string, Y2011: string, Y2012: string, Y2013: string, Y2014: string, Y2015: string, Y2016: string, Y2017: string, Y2018: string, Y2019: string]"
     ]
    }
   ],
   "source": [
    "environment.describe()"
   ]
  },
  {
   "cell_type": "code",
   "execution_count": 4,
   "metadata": {},
   "outputs": [
    {
     "data": {
      "application/vnd.jupyter.widget-view+json": {
       "model_id": "",
       "version_major": 2,
       "version_minor": 0
      },
      "text/plain": [
       "FloatProgress(value=0.0, bar_style='info', description='Progress:', layout=Layout(height='25px', width='50%'),…"
      ]
     },
     "metadata": {},
     "output_type": "display_data"
    },
    {
     "name": "stdout",
     "output_type": "stream",
     "text": [
      "root\n",
      " |-- Area Code: string (nullable = true)\n",
      " |-- Area: string (nullable = true)\n",
      " |-- Months Code: string (nullable = true)\n",
      " |-- Months: string (nullable = true)\n",
      " |-- Element Code: string (nullable = true)\n",
      " |-- Element: string (nullable = true)\n",
      " |-- Unit: string (nullable = true)\n",
      " |-- Y1961: string (nullable = true)\n",
      " |-- Y1962: double (nullable = true)\n",
      " |-- Y1963: double (nullable = true)\n",
      " |-- Y1964: double (nullable = true)\n",
      " |-- Y1965: double (nullable = true)\n",
      " |-- Y1966: double (nullable = true)\n",
      " |-- Y1967: double (nullable = true)\n",
      " |-- Y1968: double (nullable = true)\n",
      " |-- Y1969: double (nullable = true)\n",
      " |-- Y1970: double (nullable = true)\n",
      " |-- Y1971: double (nullable = true)\n",
      " |-- Y1972: double (nullable = true)\n",
      " |-- Y1973: double (nullable = true)\n",
      " |-- Y1974: double (nullable = true)\n",
      " |-- Y1975: double (nullable = true)\n",
      " |-- Y1976: double (nullable = true)\n",
      " |-- Y1977: double (nullable = true)\n",
      " |-- Y1978: double (nullable = true)\n",
      " |-- Y1979: double (nullable = true)\n",
      " |-- Y1980: double (nullable = true)\n",
      " |-- Y1981: double (nullable = true)\n",
      " |-- Y1982: double (nullable = true)\n",
      " |-- Y1983: double (nullable = true)\n",
      " |-- Y1984: double (nullable = true)\n",
      " |-- Y1985: double (nullable = true)\n",
      " |-- Y1986: double (nullable = true)\n",
      " |-- Y1987: double (nullable = true)\n",
      " |-- Y1988: double (nullable = true)\n",
      " |-- Y1989: double (nullable = true)\n",
      " |-- Y1990: double (nullable = true)\n",
      " |-- Y1991: double (nullable = true)\n",
      " |-- Y1992: double (nullable = true)\n",
      " |-- Y1993: double (nullable = true)\n",
      " |-- Y1994: double (nullable = true)\n",
      " |-- Y1995: double (nullable = true)\n",
      " |-- Y1996: double (nullable = true)\n",
      " |-- Y1997: double (nullable = true)\n",
      " |-- Y1998: double (nullable = true)\n",
      " |-- Y1999: double (nullable = true)\n",
      " |-- Y2000: double (nullable = true)\n",
      " |-- Y2001: double (nullable = true)\n",
      " |-- Y2002: double (nullable = true)\n",
      " |-- Y2003: double (nullable = true)\n",
      " |-- Y2004: double (nullable = true)\n",
      " |-- Y2005: double (nullable = true)\n",
      " |-- Y2006: double (nullable = true)\n",
      " |-- Y2007: double (nullable = true)\n",
      " |-- Y2008: double (nullable = true)\n",
      " |-- Y2009: double (nullable = true)\n",
      " |-- Y2010: double (nullable = true)\n",
      " |-- Y2011: double (nullable = true)\n",
      " |-- Y2012: double (nullable = true)\n",
      " |-- Y2013: double (nullable = true)\n",
      " |-- Y2014: double (nullable = true)\n",
      " |-- Y2015: double (nullable = true)\n",
      " |-- Y2016: double (nullable = true)\n",
      " |-- Y2017: double (nullable = true)\n",
      " |-- Y2018: double (nullable = true)\n",
      " |-- Y2019: string (nullable = true)"
     ]
    }
   ],
   "source": [
    "environment.printSchema()"
   ]
  },
  {
   "cell_type": "code",
   "execution_count": 4,
   "metadata": {},
   "outputs": [
    {
     "data": {
      "application/vnd.jupyter.widget-view+json": {
       "model_id": "",
       "version_major": 2,
       "version_minor": 0
      },
      "text/plain": [
       "FloatProgress(value=0.0, bar_style='info', description='Progress:', layout=Layout(height='25px', width='50%'),…"
      ]
     },
     "metadata": {},
     "output_type": "display_data"
    }
   ],
   "source": [
    "filter_element=environment.filter(environment['element code']=='7271')"
   ]
  },
  {
   "cell_type": "code",
   "execution_count": 44,
   "metadata": {},
   "outputs": [
    {
     "data": {
      "application/vnd.jupyter.widget-view+json": {
       "model_id": "",
       "version_major": 2,
       "version_minor": 0
      },
      "text/plain": [
       "FloatProgress(value=0.0, bar_style='info', description='Progress:', layout=Layout(height='25px', width='50%'),…"
      ]
     },
     "metadata": {},
     "output_type": "display_data"
    },
    {
     "name": "stdout",
     "output_type": "stream",
     "text": [
      "+-------+------------------+-----------+-----------------+-----------+------------+------------------+----+-------------------+--------------------+--------------------+--------------------+--------------------+------------------+--------------------+-------------------+-------------------+-------------------+--------------------+--------------------+-------------------+--------------------+--------------------+--------------------+-------------------+-------------------+-------------------+------------------+------------------+-------------------+------------------+-------------------+-------------------+-------------------+------------------+------------------+-------------------+------------------+------------------+-------------------+-------------------+------------------+------------------+------------------+------------------+------------------+------------------+------------------+------------------+-----------------+------------------+------------------+------------------+------------------+------------------+------------------+------------------+------------------+------------------+------------------+------------------+------------------+------------------+------------------+------------------+------------------+------------------+\n",
      "|summary|         Area Code|       Area|      Months Code|     Months|Element Code|           Element|Unit|              Y1961|               Y1962|               Y1963|               Y1964|               Y1965|             Y1966|               Y1967|              Y1968|              Y1969|              Y1970|               Y1971|               Y1972|              Y1973|               Y1974|               Y1975|               Y1976|              Y1977|              Y1978|              Y1979|             Y1980|             Y1981|              Y1982|             Y1983|              Y1984|              Y1985|              Y1986|             Y1987|             Y1988|              Y1989|             Y1990|             Y1991|              Y1992|              Y1993|             Y1994|             Y1995|             Y1996|             Y1997|             Y1998|             Y1999|             Y2000|             Y2001|            Y2002|             Y2003|             Y2004|             Y2005|             Y2006|             Y2007|             Y2008|             Y2009|             Y2010|             Y2011|             Y2012|             Y2013|             Y2014|             Y2015|             Y2016|             Y2017|             Y2018|             Y2019|\n",
      "+-------+------------------+-----------+-----------------+-----------+------------+------------------+----+-------------------+--------------------+--------------------+--------------------+--------------------+------------------+--------------------+-------------------+-------------------+-------------------+--------------------+--------------------+-------------------+--------------------+--------------------+--------------------+-------------------+-------------------+-------------------+------------------+------------------+-------------------+------------------+-------------------+-------------------+-------------------+------------------+------------------+-------------------+------------------+------------------+-------------------+-------------------+------------------+------------------+------------------+------------------+------------------+------------------+------------------+------------------+-----------------+------------------+------------------+------------------+------------------+------------------+------------------+------------------+------------------+------------------+------------------+------------------+------------------+------------------+------------------+------------------+------------------+------------------+\n",
      "|  count|              4720|       4720|             4720|       4720|        4720|              4720|4720|               4047|                4057|                4043|                4023|                4045|              4094|                4078|               4082|               4075|               4068|                4068|                4078|               4124|                4115|                4069|                4033|               4066|               4101|               4079|              4078|              4069|               4048|              4030|               4063|               4038|               4060|              4070|              4069|               4064|              4055|              4037|               4325|               4328|              4352|              4370|              4391|              4319|              4359|              4333|              4358|              4302|             4337|              4383|              4394|              4402|              4446|              4462|              4428|              4406|              4410|              4430|              4388|              4428|              4406|              4398|              4389|              4402|              4391|              4401|\n",
      "|   mean| 837.5822033898305|       null|7009.901906779661|       null|      7271.0|              null|null|0.14432616753150507|-0.02680823268424937|-0.03014840465001...|-0.12494904300273428|-0.22968257107540185| 0.089441377625794|-0.12983055419323222|-0.1669693777560021|0.11335018404907983|0.07950172074729604|-0.17543682399213317|-0.05171309465424...|0.19729534432589768|-0.12973025516403394|-0.03152985991644...|-0.21419414827671743|0.18753221839645806|0.05503340648622281|0.22958837950478064|0.2171964198136341|0.2164322929466699|0.15454224308300343|0.3547285359801482|0.08378218065468872|0.07549702823179809|0.13852167487684725|0.4099071253071257|0.4398127304005905|0.28240944881889823|0.5825003699136863|0.3316319048798619|0.25795606936416177|0.23994500924214396|0.5646989889705883|0.6207112128146471|0.3171398314734688|0.5750784903912951|  0.95197247075017|0.7373464112624044|0.6890259293253785|0.8097391910739187|0.923895780493429|0.8631204654346326|0.7850025034137454|0.8817462517037687|0.9043398560503844| 1.003718511878082|0.8201768292682926|0.9446713572401281|1.0887517006802718|0.8701907449209926|0.9040989061075675|0.9785228093947611|1.1365946436677246|1.3250106866757614| 1.449424698108909| 1.298684688777831|1.3131286722842173|1.4093372216330877|\n",
      "| stddev|1798.3097465403528|       null|6.031449379256494|       null|         0.0|              null|null| 0.8035693029732306|  0.7575705698774442|  1.0073570159504834|  0.7754948643113622|  0.6971704228677359|0.8428614299155258|  0.7209283542135018| 0.7490126794095348| 0.8241612715325795| 0.6936041133744678|  0.7048479409128894|  0.8414191683725599| 0.7664526896738458|  0.8126023463580265|  0.7665975324129207|  0.7297166393576565| 0.7561653447527314|  0.693848800641774| 0.7618242528457145|0.7052319271340701|0.8145275211695147|  0.751826435799314|  0.92444529704423| 0.7653688568323329| 0.8840518143577574| 0.8124662807023426|0.9480040893771935|0.7949241077577988| 0.9335547621272766|0.9130773991778328|0.7676871163922145| 1.0397161259168217| 0.9975419847324475|0.9368662016857472|0.9432761409736475|0.8632656654496923|0.9222080733334962|0.9699153157652295|0.8890735125767881|0.9867404478964051|0.9802468603966342|1.054938693862054|0.9952122737077415|0.7660347686507467|0.8754760078383914|1.0298135023397397|1.0645507686524587|1.0823980235971133|0.8124740613514768|1.0903042512059813|0.9165798383637689|1.0851459942465984|0.8481946403315174|0.9801440237973198|0.9652357654464073|0.9866350172833419|0.9241995811465269|1.0232299476699707| 0.835519882246237|\n",
      "|    min|                 1|Afghanistan|             7001|      April|        7271|Temperature change|  �C|          -0.001000|              -5.391|              -8.483|              -7.309|              -4.728|            -8.147|              -6.531|             -8.407|             -6.784|             -5.847|              -7.671|              -7.722|             -4.896|              -4.732|              -6.169|              -4.263|             -6.495|             -8.228|             -6.319|            -5.784|            -6.591|              -4.55|            -6.101|             -5.437|             -8.411|             -6.345|             -8.75|            -8.963|             -5.311|             -4.03|            -4.598|             -5.414|             -7.389|            -5.099|            -4.862|            -4.027|            -4.059|            -6.031|            -3.035|            -3.596|            -5.493|            -6.17|            -6.118|            -5.025|            -5.171|            -4.981|             -3.19|            -9.334|            -3.543|            -6.072|            -4.854|            -5.785|            -3.642|            -5.367|            -4.068|            -3.306|            -3.584|            -2.216|         -0.003000|\n",
      "|    max|                99|   Zimbabwe|             7020|Sep�Oct�Nov|        7271|Temperature change|  �C|           5.771000|               4.366|               4.666|               5.233|               5.144|             5.771|               4.768|              3.181|              4.411|              2.999|               3.665|               9.475|              6.304|               6.912|                6.15|               7.689|              4.875|              5.956|              5.483|             4.519|             6.144|              5.411|             6.513|              9.303|              5.948|              6.845|             4.516|             4.982|              6.841|              9.73|              6.11|              6.017|              5.989|             6.477|             7.221|              7.27|             5.637|             6.816|             7.017|             5.836|             6.092|            8.719|             6.171|             7.461|             7.651|            11.331|             7.655|             8.298|             6.415|              7.19|             6.531|            10.826|             6.738|            11.759|              7.59|            10.478|             7.389|             9.228|          7.215000|\n",
      "+-------+------------------+-----------+-----------------+-----------+------------+------------------+----+-------------------+--------------------+--------------------+--------------------+--------------------+------------------+--------------------+-------------------+-------------------+-------------------+--------------------+--------------------+-------------------+--------------------+--------------------+--------------------+-------------------+-------------------+-------------------+------------------+------------------+-------------------+------------------+-------------------+-------------------+-------------------+------------------+------------------+-------------------+------------------+------------------+-------------------+-------------------+------------------+------------------+------------------+------------------+------------------+------------------+------------------+------------------+-----------------+------------------+------------------+------------------+------------------+------------------+------------------+------------------+------------------+------------------+------------------+------------------+------------------+------------------+------------------+------------------+------------------+------------------+"
     ]
    }
   ],
   "source": [
    "(filter_element).describe().show(5)"
   ]
  },
  {
   "cell_type": "code",
   "execution_count": 5,
   "metadata": {},
   "outputs": [
    {
     "data": {
      "application/vnd.jupyter.widget-view+json": {
       "model_id": "",
       "version_major": 2,
       "version_minor": 0
      },
      "text/plain": [
       "FloatProgress(value=0.0, bar_style='info', description='Progress:', layout=Layout(height='25px', width='50%'),…"
      ]
     },
     "metadata": {},
     "output_type": "display_data"
    }
   ],
   "source": [
    "New_environment=filter_element.select('area','y2017','y2018','y2019')"
   ]
  },
  {
   "cell_type": "code",
   "execution_count": 54,
   "metadata": {},
   "outputs": [
    {
     "data": {
      "application/vnd.jupyter.widget-view+json": {
       "model_id": "",
       "version_major": 2,
       "version_minor": 0
      },
      "text/plain": [
       "FloatProgress(value=0.0, bar_style='info', description='Progress:', layout=Layout(height='25px', width='50%'),…"
      ]
     },
     "metadata": {},
     "output_type": "display_data"
    },
    {
     "name": "stdout",
     "output_type": "stream",
     "text": [
      "root\n",
      " |-- area: string (nullable = true)\n",
      " |-- y2017: double (nullable = true)\n",
      " |-- y2018: double (nullable = true)\n",
      " |-- y2019: string (nullable = true)"
     ]
    }
   ],
   "source": [
    "New_environment.printSchema()"
   ]
  },
  {
   "cell_type": "code",
   "execution_count": 49,
   "metadata": {},
   "outputs": [
    {
     "data": {
      "application/vnd.jupyter.widget-view+json": {
       "model_id": "",
       "version_major": 2,
       "version_minor": 0
      },
      "text/plain": [
       "FloatProgress(value=0.0, bar_style='info', description='Progress:', layout=Layout(height='25px', width='50%'),…"
      ]
     },
     "metadata": {},
     "output_type": "display_data"
    },
    {
     "name": "stdout",
     "output_type": "stream",
     "text": [
      "+-----------+------+-----+--------+\n",
      "|       area| y2017|y2018|   y2019|\n",
      "+-----------+------+-----+--------+\n",
      "|Afghanistan| 1.201|1.996|2.951000|\n",
      "|Afghanistan|-0.323|2.705|0.086000|\n",
      "|Afghanistan| 0.834|4.418|0.234000|\n",
      "|Afghanistan| 1.252|1.442|0.899000|\n",
      "|Afghanistan|  3.28|0.855|0.647000|\n",
      "+-----------+------+-----+--------+\n",
      "only showing top 5 rows"
     ]
    }
   ],
   "source": [
    "New_environment.show(5)"
   ]
  },
  {
   "cell_type": "code",
   "execution_count": 6,
   "metadata": {},
   "outputs": [
    {
     "data": {
      "application/vnd.jupyter.widget-view+json": {
       "model_id": "",
       "version_major": 2,
       "version_minor": 0
      },
      "text/plain": [
       "FloatProgress(value=0.0, bar_style='info', description='Progress:', layout=Layout(height='25px', width='50%'),…"
      ]
     },
     "metadata": {},
     "output_type": "display_data"
    },
    {
     "name": "stdout",
     "output_type": "stream",
     "text": [
      "+--------------------+\n",
      "|                area|\n",
      "+--------------------+\n",
      "|              Guyana|\n",
      "|              Turkey|\n",
      "|           Argentina|\n",
      "|              Angola|\n",
      "|             Albania|\n",
      "|           Nicaragua|\n",
      "|                Peru|\n",
      "|               China|\n",
      "|             Somalia|\n",
      "|          Martinique|\n",
      "|  South-Eastern Asia|\n",
      "|Serbia and Monten...|\n",
      "|             Croatia|\n",
      "|             Andorra|\n",
      "|            Suriname|\n",
      "|              Norway|\n",
      "|          Guadeloupe|\n",
      "|               Niger|\n",
      "|             Ireland|\n",
      "|               Congo|\n",
      "+--------------------+\n",
      "only showing top 20 rows"
     ]
    }
   ],
   "source": [
    "New_environment.select('area').distinct().show()"
   ]
  },
  {
   "cell_type": "code",
   "execution_count": 56,
   "metadata": {
    "scrolled": false
   },
   "outputs": [
    {
     "data": {
      "application/vnd.jupyter.widget-view+json": {
       "model_id": "",
       "version_major": 2,
       "version_minor": 0
      },
      "text/plain": [
       "FloatProgress(value=0.0, bar_style='info', description='Progress:', layout=Layout(height='25px', width='50%'),…"
      ]
     },
     "metadata": {},
     "output_type": "display_data"
    },
    {
     "name": "stdout",
     "output_type": "stream",
     "text": [
      "The Variable area has:  630 Null Values\n",
      "The Variable y2017 has:  1299 Null Values\n",
      "The Variable y2018 has:  1317 Null Values\n",
      "The Variable y2019 has:  1291 Null Values"
     ]
    }
   ],
   "source": [
    "print(\"The Variable\",'area', \"has: \", environment.filter(environment['area'].isNull()).count(), \"Null Values\")\n",
    "print(\"The Variable\",'y2017', \"has: \", environment.filter(environment['y2017'].isNull()).count(), \"Null Values\")\n",
    "print(\"The Variable\",'y2018', \"has: \", environment.filter(environment['y2018'].isNull()).count(), \"Null Values\")\n",
    "print(\"The Variable\",'y2019', \"has: \", environment.filter(environment['y2019'].isNull()).count(), \"Null Values\")"
   ]
  },
  {
   "cell_type": "markdown",
   "metadata": {},
   "source": [
    "# Shape"
   ]
  },
  {
   "cell_type": "code",
   "execution_count": 50,
   "metadata": {},
   "outputs": [
    {
     "data": {
      "application/vnd.jupyter.widget-view+json": {
       "model_id": "",
       "version_major": 2,
       "version_minor": 0
      },
      "text/plain": [
       "FloatProgress(value=0.0, bar_style='info', description='Progress:', layout=Layout(height='25px', width='50%'),…"
      ]
     },
     "metadata": {},
     "output_type": "display_data"
    },
    {
     "name": "stdout",
     "output_type": "stream",
     "text": [
      "(4720, 4)"
     ]
    }
   ],
   "source": [
    "print((New_environment.count(),len(New_environment.columns)))"
   ]
  },
  {
   "cell_type": "code",
   "execution_count": 44,
   "metadata": {},
   "outputs": [
    {
     "data": {
      "application/vnd.jupyter.widget-view+json": {
       "model_id": "",
       "version_major": 2,
       "version_minor": 0
      },
      "text/plain": [
       "FloatProgress(value=0.0, bar_style='info', description='Progress:', layout=Layout(height='25px', width='50%'),…"
      ]
     },
     "metadata": {},
     "output_type": "display_data"
    },
    {
     "name": "stdout",
     "output_type": "stream",
     "text": [
      "+-------+------------------+------------------+------------------+\n",
      "|summary|             y2017|             y2018|             y2019|\n",
      "+-------+------------------+------------------+------------------+\n",
      "|  count|              8357|              8339|              8365|\n",
      "|   mean|1.0017628335527087|1.0108722868449487|1.0322196225439515|\n",
      "| stddev|0.8094999814416658|0.8729501003990419|0.7699041633003846|\n",
      "|    min|            -3.584|            -2.216|         -0.003000|\n",
      "|    max|             7.389|             9.228|          7.215000|\n",
      "+-------+------------------+------------------+------------------+"
     ]
    }
   ],
   "source": [
    "(environment.select('y2017','y2018','y2019')).describe().show()"
   ]
  },
  {
   "cell_type": "code",
   "execution_count": 7,
   "metadata": {},
   "outputs": [
    {
     "data": {
      "application/vnd.jupyter.widget-view+json": {
       "model_id": "",
       "version_major": 2,
       "version_minor": 0
      },
      "text/plain": [
       "FloatProgress(value=0.0, bar_style='info', description='Progress:', layout=Layout(height='25px', width='50%'),…"
      ]
     },
     "metadata": {},
     "output_type": "display_data"
    }
   ],
   "source": [
    "environment_avg=New_environment.withColumn('Avg3LastYears', (New_environment.y2017+New_environment.y2018+New_environment.y2019)/3).select('area','y2017','y2018','y2019','Avg3LastYears')"
   ]
  },
  {
   "cell_type": "code",
   "execution_count": 56,
   "metadata": {},
   "outputs": [
    {
     "data": {
      "application/vnd.jupyter.widget-view+json": {
       "model_id": "",
       "version_major": 2,
       "version_minor": 0
      },
      "text/plain": [
       "FloatProgress(value=0.0, bar_style='info', description='Progress:', layout=Layout(height='25px', width='50%'),…"
      ]
     },
     "metadata": {},
     "output_type": "display_data"
    },
    {
     "name": "stdout",
     "output_type": "stream",
     "text": [
      "+-----------+------+-----+--------+------------------+\n",
      "|       area| y2017|y2018|   y2019|     Avg3LastYears|\n",
      "+-----------+------+-----+--------+------------------+\n",
      "|Afghanistan| 1.201|1.996|2.951000|2.0493333333333332|\n",
      "|Afghanistan|-0.323|2.705|0.086000|0.8226666666666667|\n",
      "|Afghanistan| 0.834|4.418|0.234000|1.8286666666666667|\n",
      "|Afghanistan| 1.252|1.442|0.899000|1.1976666666666667|\n",
      "|Afghanistan|  3.28|0.855|0.647000|             1.594|\n",
      "+-----------+------+-----+--------+------------------+\n",
      "only showing top 5 rows"
     ]
    }
   ],
   "source": [
    "environment_avg.show(5)"
   ]
  },
  {
   "cell_type": "code",
   "execution_count": 8,
   "metadata": {},
   "outputs": [
    {
     "data": {
      "application/vnd.jupyter.widget-view+json": {
       "model_id": "",
       "version_major": 2,
       "version_minor": 0
      },
      "text/plain": [
       "FloatProgress(value=0.0, bar_style='info', description='Progress:', layout=Layout(height='25px', width='50%'),…"
      ]
     },
     "metadata": {},
     "output_type": "display_data"
    },
    {
     "name": "stdout",
     "output_type": "stream",
     "text": [
      "+--------------------+--------+--------+--------+------------------+\n",
      "|                area|   y2017|   y2018|   y2019|     Avg3LastYears|\n",
      "+--------------------+--------+--------+--------+------------------+\n",
      "|Svalbard and Jan ...|7.267000|9.223000|3.841000| 6.777000000000001|\n",
      "|Svalbard and Jan ...|5.654000|8.385000|4.831000|              6.29|\n",
      "|Svalbard and Jan ...|4.062000|9.228000|4.827000| 6.038999999999999|\n",
      "|            Mongolia|2.405000|6.984000|4.527000|4.6386666666666665|\n",
      "|Svalbard and Jan ...|6.705000|5.826000|1.375000| 4.635333333333333|\n",
      "+--------------------+--------+--------+--------+------------------+\n",
      "only showing top 5 rows"
     ]
    }
   ],
   "source": [
    "environment_avg.sort(environment_avg.Avg3LastYears.desc()).show(5)"
   ]
  },
  {
   "cell_type": "code",
   "execution_count": 9,
   "metadata": {},
   "outputs": [
    {
     "data": {
      "application/vnd.jupyter.widget-view+json": {
       "model_id": "",
       "version_major": 2,
       "version_minor": 0
      },
      "text/plain": [
       "FloatProgress(value=0.0, bar_style='info', description='Progress:', layout=Layout(height='25px', width='50%'),…"
      ]
     },
     "metadata": {},
     "output_type": "display_data"
    }
   ],
   "source": [
    "finalDf=environment_avg"
   ]
  },
  {
   "cell_type": "code",
   "execution_count": 10,
   "metadata": {},
   "outputs": [
    {
     "data": {
      "application/vnd.jupyter.widget-view+json": {
       "model_id": "",
       "version_major": 2,
       "version_minor": 0
      },
      "text/plain": [
       "FloatProgress(value=0.0, bar_style='info', description='Progress:', layout=Layout(height='25px', width='50%'),…"
      ]
     },
     "metadata": {},
     "output_type": "display_data"
    }
   ],
   "source": [
    "finalDf.coalesce(1).write.format(\"csv\").option(\"header\",\"true\").save(\"s3://trabajo1datalake/refined/Change_climatic/Change_climatic_PYSPARK\")"
   ]
  }
 ],
 "metadata": {
  "kernelspec": {
   "display_name": "PySpark",
   "language": "",
   "name": "pysparkkernel"
  },
  "language_info": {
   "codemirror_mode": {
    "name": "python",
    "version": 3
   },
   "mimetype": "text/x-python",
   "name": "pyspark",
   "pygments_lexer": "python3"
  }
 },
 "nbformat": 4,
 "nbformat_minor": 4
}
